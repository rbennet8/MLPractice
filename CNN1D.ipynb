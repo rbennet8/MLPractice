{
 "cells": [
  {
   "cell_type": "code",
   "execution_count": 27,
   "id": "a97b9838",
   "metadata": {},
   "outputs": [],
   "source": [
    "import pandas as pd\n",
    "import random"
   ]
  },
  {
   "cell_type": "code",
   "execution_count": 51,
   "id": "d1f3ca94",
   "metadata": {},
   "outputs": [],
   "source": [
    "def genSeq():\n",
    "    alphabet = 'GATC'\n",
    "    bindingSeq = 'GGAATTCCTTAAGGAATTCCTTAAGGAATTCCTTAAGG'\n",
    "    seq = ''\n",
    "    randInt = random.randint(50, 70)\n",
    "    \n",
    "    for i in range(randInt):\n",
    "        randInt2 = random.randint(0, 3)\n",
    "        seq = seq + alphabet[randInt2]\n",
    "    for i in range(len(bindingSeq)):\n",
    "        randInt2 = random.randint(0, 8)\n",
    "        if randInt2 == 0:\n",
    "            bindingSeq = bindingSeq[0:i] + alphabet[random.randint(0, 3)] + bindingSeq[i+1:]\n",
    "    \n",
    "    mid = int(len(seq)/2)\n",
    "    seq = seq[:mid] + bindingSeq + seq[mid:]\n",
    "    return seq"
   ]
  },
  {
   "cell_type": "code",
   "execution_count": 52,
   "id": "1499b6db",
   "metadata": {},
   "outputs": [],
   "source": [
    "names = []\n",
    "seqs = []\n",
    "\n",
    "for i in range(10000):\n",
    "    names.append('seq ' + str(i))\n",
    "    seqs.append(genSeq())"
   ]
  },
  {
   "cell_type": "code",
   "execution_count": 53,
   "id": "cfd9efee",
   "metadata": {},
   "outputs": [],
   "source": [
    "seqDF = pd.DataFrame(seqs, columns = ['Sequences'], index = names)"
   ]
  },
  {
   "cell_type": "code",
   "execution_count": 54,
   "id": "043ef365",
   "metadata": {},
   "outputs": [
    {
     "data": {
      "text/html": [
       "<div>\n",
       "<style scoped>\n",
       "    .dataframe tbody tr th:only-of-type {\n",
       "        vertical-align: middle;\n",
       "    }\n",
       "\n",
       "    .dataframe tbody tr th {\n",
       "        vertical-align: top;\n",
       "    }\n",
       "\n",
       "    .dataframe thead th {\n",
       "        text-align: right;\n",
       "    }\n",
       "</style>\n",
       "<table border=\"1\" class=\"dataframe\">\n",
       "  <thead>\n",
       "    <tr style=\"text-align: right;\">\n",
       "      <th></th>\n",
       "      <th>Sequences</th>\n",
       "    </tr>\n",
       "  </thead>\n",
       "  <tbody>\n",
       "    <tr>\n",
       "      <th>seq 0</th>\n",
       "      <td>GTCAATGTTTCAGGATGAATGCGGCGTCGGAATCGCTTATGGAATT...</td>\n",
       "    </tr>\n",
       "    <tr>\n",
       "      <th>seq 1</th>\n",
       "      <td>AGTTAACATCCTCAATGAGTTGACAGGAATTCGTTAAGGAATTCCT...</td>\n",
       "    </tr>\n",
       "    <tr>\n",
       "      <th>seq 2</th>\n",
       "      <td>TATGTCCTCTTGGGATATATCGCTGGGTCTCGGGAATACCTTAAGG...</td>\n",
       "    </tr>\n",
       "    <tr>\n",
       "      <th>seq 3</th>\n",
       "      <td>CTTTAGCCACGATAGCTGACCGCGGGTCGGAATTCCTTAAGGAATT...</td>\n",
       "    </tr>\n",
       "    <tr>\n",
       "      <th>seq 4</th>\n",
       "      <td>TATAACAAACCGTGGAAGACTATTGAATCGCAGGGGCATCCCTTAA...</td>\n",
       "    </tr>\n",
       "    <tr>\n",
       "      <th>...</th>\n",
       "      <td>...</td>\n",
       "    </tr>\n",
       "    <tr>\n",
       "      <th>seq 9995</th>\n",
       "      <td>GGAGACCGGTATCCACCTCGTTGGTCTGGAATTCCTTAGGGAATTC...</td>\n",
       "    </tr>\n",
       "    <tr>\n",
       "      <th>seq 9996</th>\n",
       "      <td>GAACGATCTGCTGCACTCAGCATTTAGGAACTCCTTAAGGAATTTC...</td>\n",
       "    </tr>\n",
       "    <tr>\n",
       "      <th>seq 9997</th>\n",
       "      <td>AGCCTGGTGCATATGATTTTATGGATCTGGCACTCTTTAAGGAATT...</td>\n",
       "    </tr>\n",
       "    <tr>\n",
       "      <th>seq 9998</th>\n",
       "      <td>GGTCAAGCATTGTGCATGAAAAAGTAAGCACAGCGGAATTCCGTAA...</td>\n",
       "    </tr>\n",
       "    <tr>\n",
       "      <th>seq 9999</th>\n",
       "      <td>CACGGACACTCATGTCGCCAGACCATAGGGTGTCCAATTCCTCAAG...</td>\n",
       "    </tr>\n",
       "  </tbody>\n",
       "</table>\n",
       "<p>10000 rows × 1 columns</p>\n",
       "</div>"
      ],
      "text/plain": [
       "                                                  Sequences\n",
       "seq 0     GTCAATGTTTCAGGATGAATGCGGCGTCGGAATCGCTTATGGAATT...\n",
       "seq 1     AGTTAACATCCTCAATGAGTTGACAGGAATTCGTTAAGGAATTCCT...\n",
       "seq 2     TATGTCCTCTTGGGATATATCGCTGGGTCTCGGGAATACCTTAAGG...\n",
       "seq 3     CTTTAGCCACGATAGCTGACCGCGGGTCGGAATTCCTTAAGGAATT...\n",
       "seq 4     TATAACAAACCGTGGAAGACTATTGAATCGCAGGGGCATCCCTTAA...\n",
       "...                                                     ...\n",
       "seq 9995  GGAGACCGGTATCCACCTCGTTGGTCTGGAATTCCTTAGGGAATTC...\n",
       "seq 9996  GAACGATCTGCTGCACTCAGCATTTAGGAACTCCTTAAGGAATTTC...\n",
       "seq 9997  AGCCTGGTGCATATGATTTTATGGATCTGGCACTCTTTAAGGAATT...\n",
       "seq 9998  GGTCAAGCATTGTGCATGAAAAAGTAAGCACAGCGGAATTCCGTAA...\n",
       "seq 9999  CACGGACACTCATGTCGCCAGACCATAGGGTGTCCAATTCCTCAAG...\n",
       "\n",
       "[10000 rows x 1 columns]"
      ]
     },
     "execution_count": 54,
     "metadata": {},
     "output_type": "execute_result"
    }
   ],
   "source": [
    "seqDF"
   ]
  },
  {
   "cell_type": "code",
   "execution_count": 57,
   "id": "38669fe3",
   "metadata": {},
   "outputs": [],
   "source": [
    "from tensorflow import keras\n",
    "from keras.models import Sequential\n",
    "from keras.layers import Conv1D, Dense, MaxPooling1D, Flatten"
   ]
  },
  {
   "cell_type": "code",
   "execution_count": 65,
   "id": "a8c930d3",
   "metadata": {},
   "outputs": [
    {
     "name": "stdout",
     "output_type": "stream",
     "text": [
      "Model: \"sequential_5\"\n",
      "_________________________________________________________________\n",
      "Layer (type)                 Output Shape              Param #   \n",
      "=================================================================\n",
      "conv1d_9 (Conv1D)            (None, 9998, 64)          256       \n",
      "_________________________________________________________________\n",
      "max_pooling1d_9 (MaxPooling1 (None, 4999, 64)          0         \n",
      "_________________________________________________________________\n",
      "conv1d_10 (Conv1D)           (None, 4997, 64)          12352     \n",
      "_________________________________________________________________\n",
      "max_pooling1d_10 (MaxPooling (None, 2498, 64)          0         \n",
      "_________________________________________________________________\n",
      "flatten_4 (Flatten)          (None, 159872)            0         \n",
      "_________________________________________________________________\n",
      "dense_8 (Dense)              (None, 64)                10231872  \n",
      "_________________________________________________________________\n",
      "dense_9 (Dense)              (None, 28)                1820      \n",
      "=================================================================\n",
      "Total params: 10,246,300\n",
      "Trainable params: 10,246,300\n",
      "Non-trainable params: 0\n",
      "_________________________________________________________________\n"
     ]
    }
   ],
   "source": [
    "max_features = 1000\n",
    "max_len = 100\n",
    "\n",
    "model = Sequential()\n",
    "model.add(Conv1D(64, 3, activation='relu', input_shape=(10000, 1)))\n",
    "model.add(MaxPooling1D(2))\n",
    "model.add(Conv1D(64, 3, activation='relu'))\n",
    "model.add(MaxPooling1D(2))\n",
    "model.add(Flatten())\n",
    "model.add(Dense(64, activation='relu'))\n",
    "model.add(Dense(28, activation='softmax'))\n",
    "model.compile(loss='categorical_crossentropy', optimizer='adam', metrics=['accuracy'])\n",
    "\n",
    "model.summary()"
   ]
  },
  {
   "cell_type": "code",
   "execution_count": null,
   "id": "0d902224",
   "metadata": {},
   "outputs": [],
   "source": []
  }
 ],
 "metadata": {
  "kernelspec": {
   "display_name": "Python 3",
   "language": "python",
   "name": "python3"
  },
  "language_info": {
   "codemirror_mode": {
    "name": "ipython",
    "version": 3
   },
   "file_extension": ".py",
   "mimetype": "text/x-python",
   "name": "python",
   "nbconvert_exporter": "python",
   "pygments_lexer": "ipython3",
   "version": "3.7.10"
  }
 },
 "nbformat": 4,
 "nbformat_minor": 5
}
